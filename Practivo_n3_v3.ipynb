{
 "cells": [
  {
   "cell_type": "markdown",
   "metadata": {},
   "source": [
    "## Trabajo Práctico N°3\n",
    "\n",
    "*Introducción*\n",
    "\n",
    "Construcción de un clasificador utilizando los algoritmos de:\n",
    "1. KNN y GridSearch\n",
    "2. Regresión logística y GridSearch\n",
    "3. Arboles\n",
    "\n",
    "En sus distintas versiones y comparar resultados. El DataSet será el propuesto por el grupo\n"
   ]
  },
  {
   "cell_type": "markdown",
   "metadata": {},
   "source": [
    "## Inicio\n",
    "**Importación de librerías**<br>"
   ]
  },
  {
   "cell_type": "code",
   "execution_count": 1,
   "metadata": {},
   "outputs": [],
   "source": [
    "#Importo las librerias que deseo usar\n",
    "import pandas as pd\n",
    "import matplotlib.pyplot as plt\n",
    "import seaborn as sns ; sns.set(color_codes=True)\n",
    "import numpy as np\n",
    "from sklearn.model_selection import cross_val_score, train_test_split\n",
    "from sklearn.neighbors import KNeighborsClassifier\n",
    "from sklearn.metrics import classification_report\n",
    "from sklearn.metrics import confusion_matrix, precision_score, recall_score, roc_curve, auc, accuracy_score\n",
    "%matplotlib inline"
   ]
  },
  {
   "cell_type": "markdown",
   "metadata": {},
   "source": [
    "## Introducción"
   ]
  },
  {
   "cell_type": "markdown",
   "metadata": {},
   "source": [
    "Para el análisis se utilizó un dataset de correspondiente a las transacciones realizadas por los clientes de Personal en la app de autogestión.\n",
    "\n",
    "La pregunta que se realiza es ¿ Cómo maximizar las transacciones monetarias ? \n",
    "Por ello utilizamos un dataset en donde los features corresponden a el comportamiento de los clientes utilizando el canal en donde hay features que la empresa puede definir, como por ejemplo beneficios extra para incentivar esas transacciones.\n",
    "\n",
    "En resumen:\n",
    "\n",
    "1. La variable a predecir será realiza o no transacción monetaria\n",
    "2. Probamos 5 modelos Knn y regresión logística. Primero sin tunear los hiperparámetros y luego tuneados usando GridSearch. Y un arbol de decisión.\n",
    "3. El dataset tiene balanceada la variable a predecir y disponemos de 10000 registros aproximadamente.\n",
    "4. Se elige el mejor modelo para todas las variables del dataset."
   ]
  },
  {
   "cell_type": "markdown",
   "metadata": {},
   "source": [
    "## Importo el DataSet"
   ]
  },
  {
   "cell_type": "code",
   "execution_count": 2,
   "metadata": {},
   "outputs": [],
   "source": [
    "df = pd.read_csv(\"ResultadoFinal_v8.csv\", sep=\";\")"
   ]
  },
  {
   "cell_type": "markdown",
   "metadata": {},
   "source": [
    "Realizo un primer análisis viendo la estructura del dataframe"
   ]
  },
  {
   "cell_type": "code",
   "execution_count": 3,
   "metadata": {},
   "outputs": [
    {
     "data": {
      "text/html": [
       "<div>\n",
       "<style scoped>\n",
       "    .dataframe tbody tr th:only-of-type {\n",
       "        vertical-align: middle;\n",
       "    }\n",
       "\n",
       "    .dataframe tbody tr th {\n",
       "        vertical-align: top;\n",
       "    }\n",
       "\n",
       "    .dataframe thead th {\n",
       "        text-align: right;\n",
       "    }\n",
       "</style>\n",
       "<table border=\"1\" class=\"dataframe\">\n",
       "  <thead>\n",
       "    <tr style=\"text-align: right;\">\n",
       "      <th></th>\n",
       "      <th>CONTRATO</th>\n",
       "      <th>CONTRATOVIEJO</th>\n",
       "      <th>PACK_NOPACK</th>\n",
       "      <th>INGRESO</th>\n",
       "      <th>CONTRATOERRORUPS</th>\n",
       "      <th>CONTRATOTRANSACCIONAHORRO</th>\n",
       "      <th>CONTRATOTRANSACCIONMONETARIA</th>\n",
       "      <th>CONTRATOERRORV</th>\n",
       "      <th>Provincia</th>\n",
       "      <th>Fuente Ingreso</th>\n",
       "      <th>Marca Celular</th>\n",
       "    </tr>\n",
       "  </thead>\n",
       "  <tbody>\n",
       "    <tr>\n",
       "      <th>0</th>\n",
       "      <td>126609857</td>\n",
       "      <td>1</td>\n",
       "      <td>0</td>\n",
       "      <td>1</td>\n",
       "      <td>1</td>\n",
       "      <td>1</td>\n",
       "      <td>0</td>\n",
       "      <td>1</td>\n",
       "      <td>1</td>\n",
       "      <td>(direct)</td>\n",
       "      <td>Samsung</td>\n",
       "    </tr>\n",
       "    <tr>\n",
       "      <th>1</th>\n",
       "      <td>136391679</td>\n",
       "      <td>0</td>\n",
       "      <td>1</td>\n",
       "      <td>0</td>\n",
       "      <td>0</td>\n",
       "      <td>0</td>\n",
       "      <td>0</td>\n",
       "      <td>0</td>\n",
       "      <td>1</td>\n",
       "      <td>MarketingCloud</td>\n",
       "      <td>Motorola</td>\n",
       "    </tr>\n",
       "    <tr>\n",
       "      <th>2</th>\n",
       "      <td>121025116</td>\n",
       "      <td>0</td>\n",
       "      <td>1</td>\n",
       "      <td>1</td>\n",
       "      <td>0</td>\n",
       "      <td>0</td>\n",
       "      <td>0</td>\n",
       "      <td>0</td>\n",
       "      <td>1</td>\n",
       "      <td>(direct)</td>\n",
       "      <td>Samsung</td>\n",
       "    </tr>\n",
       "    <tr>\n",
       "      <th>3</th>\n",
       "      <td>136023455</td>\n",
       "      <td>1</td>\n",
       "      <td>0</td>\n",
       "      <td>1</td>\n",
       "      <td>1</td>\n",
       "      <td>1</td>\n",
       "      <td>0</td>\n",
       "      <td>1</td>\n",
       "      <td>1</td>\n",
       "      <td>(direct)</td>\n",
       "      <td>Samsung</td>\n",
       "    </tr>\n",
       "    <tr>\n",
       "      <th>4</th>\n",
       "      <td>127351472</td>\n",
       "      <td>1</td>\n",
       "      <td>1</td>\n",
       "      <td>1</td>\n",
       "      <td>1</td>\n",
       "      <td>0</td>\n",
       "      <td>0</td>\n",
       "      <td>1</td>\n",
       "      <td>1</td>\n",
       "      <td>(direct)</td>\n",
       "      <td>Admiral</td>\n",
       "    </tr>\n",
       "  </tbody>\n",
       "</table>\n",
       "</div>"
      ],
      "text/plain": [
       "    CONTRATO  CONTRATOVIEJO  PACK_NOPACK  INGRESO  CONTRATOERRORUPS  \\\n",
       "0  126609857              1            0        1                 1   \n",
       "1  136391679              0            1        0                 0   \n",
       "2  121025116              0            1        1                 0   \n",
       "3  136023455              1            0        1                 1   \n",
       "4  127351472              1            1        1                 1   \n",
       "\n",
       "   CONTRATOTRANSACCIONAHORRO  CONTRATOTRANSACCIONMONETARIA  CONTRATOERRORV  \\\n",
       "0                          1                             0               1   \n",
       "1                          0                             0               0   \n",
       "2                          0                             0               0   \n",
       "3                          1                             0               1   \n",
       "4                          0                             0               1   \n",
       "\n",
       "   Provincia  Fuente Ingreso Marca Celular  \n",
       "0          1        (direct)       Samsung  \n",
       "1          1  MarketingCloud      Motorola  \n",
       "2          1        (direct)       Samsung  \n",
       "3          1        (direct)       Samsung  \n",
       "4          1        (direct)       Admiral  "
      ]
     },
     "execution_count": 3,
     "metadata": {},
     "output_type": "execute_result"
    }
   ],
   "source": [
    "df.head()"
   ]
  },
  {
   "cell_type": "markdown",
   "metadata": {},
   "source": [
    "Empiezo con KNN. Voy a predecir si realizo o no una transacción. Listo las columnas para elegir los features"
   ]
  },
  {
   "cell_type": "code",
   "execution_count": 4,
   "metadata": {},
   "outputs": [
    {
     "data": {
      "text/plain": [
       "Index(['CONTRATO', 'CONTRATOVIEJO', 'PACK_NOPACK', 'INGRESO',\n",
       "       'CONTRATOERRORUPS', 'CONTRATOTRANSACCIONAHORRO',\n",
       "       'CONTRATOTRANSACCIONMONETARIA', 'CONTRATOERRORV', 'Provincia',\n",
       "       'Fuente Ingreso', 'Marca Celular'],\n",
       "      dtype='object')"
      ]
     },
     "execution_count": 4,
     "metadata": {},
     "output_type": "execute_result"
    }
   ],
   "source": [
    "df.columns"
   ]
  },
  {
   "cell_type": "code",
   "execution_count": 5,
   "metadata": {},
   "outputs": [],
   "source": [
    "#VARIABLES GLOBALES PARA ELEGIR LOS FEATURES\n",
    "\n",
    "#HAY QUE AGREGAR DESCRIPCION DE CADA UNA\n",
    "UNO = ['CONTRATOVIEJO', 'PACK_NOPACK', 'INGRESO', 'CONTRATOERRORUPS','CONTRATOTRANSACCIONAHORRO','CONTRATOERRORV','Provincia','Fuente Ingreso','Marca Celular']\n",
    "\n",
    "DOS = ['CONTRATOVIEJO', 'PACK_NOPACK', 'INGRESO','CONTRATOTRANSACCIONAHORRO','Provincia','Fuente Ingreso','Marca Celular']\n",
    "\n",
    "TRES = ['CONTRATOVIEJO', 'PACK_NOPACK', 'INGRESO','Provincia','Fuente Ingreso','Marca Celular']"
   ]
  },
  {
   "cell_type": "code",
   "execution_count": 6,
   "metadata": {},
   "outputs": [],
   "source": [
    "# Construimos la matriz de features, subseteando el DataFrame para que no contenga la variable a predecir\n",
    "X = df[UNO]"
   ]
  },
  {
   "cell_type": "markdown",
   "metadata": {},
   "source": [
    "#### Vector de targets\n"
   ]
  },
  {
   "cell_type": "code",
   "execution_count": 7,
   "metadata": {},
   "outputs": [],
   "source": [
    "y =  df['CONTRATOTRANSACCIONMONETARIA']"
   ]
  },
  {
   "cell_type": "markdown",
   "metadata": {},
   "source": [
    "## 2 - Antes genero las variables dummy\n",
    "Dependiendo la variable global que utilizo. Luego debo armar un **if para ello por ahora utilizo UNO**"
   ]
  },
  {
   "cell_type": "code",
   "execution_count": 8,
   "metadata": {},
   "outputs": [],
   "source": [
    "# Obtenemos la columna dummies de Fuente Ingreso\n",
    "df_fuente_ingreso = pd.get_dummies(X['Fuente Ingreso'], drop_first=True, prefix='Fuente Ingreso')\n",
    "    \n",
    "# Agreamos las columnas dummies concatenando el nuevo dataframe con las dummies\n",
    "df_with_dummies = pd.concat([X, df_fuente_ingreso], axis=1)\n",
    "   \n",
    "# Eliminamos la columna Fuente Ingreso del nuevo dataframe\n",
    "df_with_dummies = df_with_dummies.drop('Fuente Ingreso', axis=1)\n",
    "    \n",
    "# Guardamos el nombre de cada Fuente Ingreso en la variable ubicacion\n",
    "Fuente_ingreso = df_fuente_ingreso.columns"
   ]
  },
  {
   "cell_type": "code",
   "execution_count": 9,
   "metadata": {},
   "outputs": [],
   "source": [
    "# Obtenemos la columna dummies de Marca Celular\n",
    "df_marca_celular = pd.get_dummies(X['Marca Celular'], drop_first=True, prefix='Marca Celular')\n",
    "    \n",
    "# Agreamos las columnas dummies concatenando el nuevo dataframe con las dummies\n",
    "df_with_dummies = pd.concat([df_with_dummies, df_marca_celular], axis=1)\n",
    "   \n",
    "# Eliminamos la columna Marca Celular del nuevo dataframe\n",
    "df_with_dummies = df_with_dummies.drop('Marca Celular', axis=1)\n",
    "    \n",
    "# Guardamos el nombre de cada Marca Celular en la variable ubicacion\n",
    "Marca_celular = df_marca_celular.columns"
   ]
  },
  {
   "cell_type": "code",
   "execution_count": 10,
   "metadata": {},
   "outputs": [],
   "source": [
    "X = df_with_dummies.copy()"
   ]
  },
  {
   "cell_type": "markdown",
   "metadata": {},
   "source": [
    "## 3 - Evaluamos distintos valores para el hiperparámetro\n",
    "\n",
    "Ahora vamos a ejecutar el modelo KNeighborsClassifier probando distintos valores posibles para el hiperparámetro n_neighbors."
   ]
  },
  {
   "cell_type": "code",
   "execution_count": 11,
   "metadata": {},
   "outputs": [],
   "source": [
    "from sklearn.model_selection import cross_val_score\n",
    "\n",
    "# Voy a querer graficar los distintos valores del score de cross validation en función del hiperparámetro n_neighbors\n",
    "# Para esto voy a generar una lista de diccionarios que después se puede convertir fácilmente en DataFrame\n",
    "\n",
    "#Lista de Diccionarios\n",
    "scores_para_df = []\n",
    "k_range = list(range(1,100,5))\n",
    "\n",
    "# range(1,100,5) son los posibles valores de n_neighbors que quiero explorar. Son todos los enteros desde el 1\n",
    "# hasta el 100 en saltos de a 5. (Start,Stop,Step)\n",
    "for i in k_range:\n",
    "    # En cada iteración instanciamos el modelo con un hiperparámetro distinto\n",
    "    model = KNeighborsClassifier(n_neighbors=i)\n",
    "    \n",
    "    # cross_val_scores nos devuelve un array de 5 resultados, uno por cada partición que hizo automáticamente CV  \n",
    "    cv_scores = cross_val_score(model, X, y, cv=5)\n",
    "    \n",
    "    # Para cada valor de n_neighbours, creo un diccionario con el valor de n_neighbours y la media y el desvío de los scores.\n",
    "    dict_row_score = {'score_medio':np.mean(cv_scores),'score_std':np.std(cv_scores),'n_neighbours':i}\n",
    "    \n",
    "    # Guardo cada uno en la lista de diccionarios\n",
    "    scores_para_df.append(dict_row_score)"
   ]
  },
  {
   "cell_type": "markdown",
   "metadata": {},
   "source": [
    "**No necesito darle una etiqueta númerica solo tengo unos y ceros**.\n",
    "\n",
    "Elijo el que tiene el mejor score medio"
   ]
  },
  {
   "cell_type": "code",
   "execution_count": 12,
   "metadata": {
    "scrolled": true
   },
   "outputs": [
    {
     "data": {
      "text/html": [
       "<div>\n",
       "<style scoped>\n",
       "    .dataframe tbody tr th:only-of-type {\n",
       "        vertical-align: middle;\n",
       "    }\n",
       "\n",
       "    .dataframe tbody tr th {\n",
       "        vertical-align: top;\n",
       "    }\n",
       "\n",
       "    .dataframe thead th {\n",
       "        text-align: right;\n",
       "    }\n",
       "</style>\n",
       "<table border=\"1\" class=\"dataframe\">\n",
       "  <thead>\n",
       "    <tr style=\"text-align: right;\">\n",
       "      <th></th>\n",
       "      <th>n_neighbours</th>\n",
       "      <th>score_medio</th>\n",
       "      <th>score_std</th>\n",
       "    </tr>\n",
       "  </thead>\n",
       "  <tbody>\n",
       "    <tr>\n",
       "      <th>14</th>\n",
       "      <td>71</td>\n",
       "      <td>0.702376</td>\n",
       "      <td>0.037405</td>\n",
       "    </tr>\n",
       "    <tr>\n",
       "      <th>18</th>\n",
       "      <td>91</td>\n",
       "      <td>0.699884</td>\n",
       "      <td>0.040819</td>\n",
       "    </tr>\n",
       "    <tr>\n",
       "      <th>15</th>\n",
       "      <td>76</td>\n",
       "      <td>0.699187</td>\n",
       "      <td>0.035671</td>\n",
       "    </tr>\n",
       "    <tr>\n",
       "      <th>16</th>\n",
       "      <td>81</td>\n",
       "      <td>0.696397</td>\n",
       "      <td>0.036833</td>\n",
       "    </tr>\n",
       "    <tr>\n",
       "      <th>17</th>\n",
       "      <td>86</td>\n",
       "      <td>0.693607</td>\n",
       "      <td>0.036500</td>\n",
       "    </tr>\n",
       "  </tbody>\n",
       "</table>\n",
       "</div>"
      ],
      "text/plain": [
       "    n_neighbours  score_medio  score_std\n",
       "14            71     0.702376   0.037405\n",
       "18            91     0.699884   0.040819\n",
       "15            76     0.699187   0.035671\n",
       "16            81     0.696397   0.036833\n",
       "17            86     0.693607   0.036500"
      ]
     },
     "execution_count": 12,
     "metadata": {},
     "output_type": "execute_result"
    }
   ],
   "source": [
    "# Creamos el DataFrame a partir de la lista de diccionarios\n",
    "df_scores = pd.DataFrame(scores_para_df)\n",
    "df_scores.sort_values('score_medio', ascending=False).head()"
   ]
  },
  {
   "cell_type": "markdown",
   "metadata": {},
   "source": [
    "#### Graficando la búsqueda del mejor hiperparámetro\n",
    "\n",
    "El valor de scoring que utiliza por defecto KNeighborsClassifier es el accuracy:\n",
    "#casos bien clasificados / #total.\n",
    "\n",
    "Una vez que tenemos el DataFrame con la performance para cada valor del hiperparámetro hacemos un gráfico con los valores. Para darnos una idea de la dispersión vamos a graficar también las líneas que indican un desvío estándar por encima y por debajo de la media"
   ]
  },
  {
   "cell_type": "code",
   "execution_count": 13,
   "metadata": {},
   "outputs": [
    {
     "data": {
      "text/html": [
       "<div>\n",
       "<style scoped>\n",
       "    .dataframe tbody tr th:only-of-type {\n",
       "        vertical-align: middle;\n",
       "    }\n",
       "\n",
       "    .dataframe tbody tr th {\n",
       "        vertical-align: top;\n",
       "    }\n",
       "\n",
       "    .dataframe thead th {\n",
       "        text-align: right;\n",
       "    }\n",
       "</style>\n",
       "<table border=\"1\" class=\"dataframe\">\n",
       "  <thead>\n",
       "    <tr style=\"text-align: right;\">\n",
       "      <th></th>\n",
       "      <th>n_neighbours</th>\n",
       "      <th>score_medio</th>\n",
       "      <th>score_std</th>\n",
       "      <th>limite_inferior</th>\n",
       "      <th>limite_superior</th>\n",
       "    </tr>\n",
       "  </thead>\n",
       "  <tbody>\n",
       "    <tr>\n",
       "      <th>0</th>\n",
       "      <td>1</td>\n",
       "      <td>0.633424</td>\n",
       "      <td>0.041899</td>\n",
       "      <td>0.591525</td>\n",
       "      <td>0.675324</td>\n",
       "    </tr>\n",
       "    <tr>\n",
       "      <th>1</th>\n",
       "      <td>6</td>\n",
       "      <td>0.648263</td>\n",
       "      <td>0.049946</td>\n",
       "      <td>0.598317</td>\n",
       "      <td>0.698210</td>\n",
       "    </tr>\n",
       "    <tr>\n",
       "      <th>2</th>\n",
       "      <td>11</td>\n",
       "      <td>0.656335</td>\n",
       "      <td>0.036816</td>\n",
       "      <td>0.619519</td>\n",
       "      <td>0.693151</td>\n",
       "    </tr>\n",
       "    <tr>\n",
       "      <th>3</th>\n",
       "      <td>16</td>\n",
       "      <td>0.660919</td>\n",
       "      <td>0.038105</td>\n",
       "      <td>0.622814</td>\n",
       "      <td>0.699024</td>\n",
       "    </tr>\n",
       "    <tr>\n",
       "      <th>4</th>\n",
       "      <td>21</td>\n",
       "      <td>0.674969</td>\n",
       "      <td>0.037828</td>\n",
       "      <td>0.637141</td>\n",
       "      <td>0.712797</td>\n",
       "    </tr>\n",
       "  </tbody>\n",
       "</table>\n",
       "</div>"
      ],
      "text/plain": [
       "   n_neighbours  score_medio  score_std  limite_inferior  limite_superior\n",
       "0             1     0.633424   0.041899         0.591525         0.675324\n",
       "1             6     0.648263   0.049946         0.598317         0.698210\n",
       "2            11     0.656335   0.036816         0.619519         0.693151\n",
       "3            16     0.660919   0.038105         0.622814         0.699024\n",
       "4            21     0.674969   0.037828         0.637141         0.712797"
      ]
     },
     "execution_count": 13,
     "metadata": {},
     "output_type": "execute_result"
    }
   ],
   "source": [
    "df_scores['limite_inferior'] = df_scores['score_medio'] - df_scores['score_std']\n",
    "df_scores['limite_superior'] = df_scores['score_medio'] + df_scores['score_std']\n",
    "df_scores.head()"
   ]
  },
  {
   "cell_type": "code",
   "execution_count": 14,
   "metadata": {},
   "outputs": [
    {
     "data": {
      "image/png": "[encoded data removed]",
      "text/plain": [
       "<Figure size 432x288 with 1 Axes>"
      ]
     },
     "metadata": {
      "needs_background": "light"
     },
     "output_type": "display_data"
    }
   ],
   "source": [
    "# Buscamos gráficamente el valor ópitmo para n_neighbors\n",
    "plt.plot(df_scores['n_neighbours'],df_scores['limite_inferior'],color='r')\n",
    "plt.plot(df_scores['n_neighbours'],df_scores['score_medio'],color='b')\n",
    "plt.plot(df_scores['n_neighbours'],df_scores['limite_superior'],color='r');"
   ]
  },
  {
   "cell_type": "markdown",
   "metadata": {},
   "source": [
    "## 4 - Matriz de confusión\n",
    "\n",
    "Ahora que decidimos cuál es el mejor preprocesamiento y el mejor valor posible para los hiperparámetros podemos entrenar un modelo con estos criterios para obtener una matriz de confusión sobre datos no observados. \n",
    "\n",
    "### 4.1- Preprocesamos los datos\n",
    "(repetimos los pasos de arriba sólo para que el proceso completo sea más claro)"
   ]
  },
  {
   "cell_type": "code",
   "execution_count": 15,
   "metadata": {},
   "outputs": [],
   "source": [
    "# Matriz de features\n",
    "# X = df[UNO]\n",
    "X_train, X_test, y_train, y_test = train_test_split(X,y)"
   ]
  },
  {
   "cell_type": "markdown",
   "metadata": {},
   "source": [
    "### 5.2- Split train-test\n",
    "\n",
    "Ya sabiendo cuál es el mejor modelo, quiero obtener una matriz de confusión. Hacemos un nuevo split train-test porque siempre queremos evaluar dónde predice bien y dónde se equivoca el modelo **sobre datos no observados**.\n",
    "Utilizo el mejor parámetro elegido que es n_neighbors = 71"
   ]
  },
  {
   "cell_type": "code",
   "execution_count": 16,
   "metadata": {},
   "outputs": [
    {
     "data": {
      "text/plain": [
       "KNeighborsClassifier(algorithm='auto', leaf_size=30, metric='minkowski',\n",
       "           metric_params=None, n_jobs=None, n_neighbors=71, p=2,\n",
       "           weights='uniform')"
      ]
     },
     "execution_count": 16,
     "metadata": {},
     "output_type": "execute_result"
    }
   ],
   "source": [
    "# Elegimos el modelo óptimo que nos había indicado cross validation\n",
    "model = KNeighborsClassifier(n_neighbors=71)\n",
    "# Lo ajustamos sobre datos de entrenamiento\n",
    "model.fit(X_train,y_train)"
   ]
  },
  {
   "cell_type": "code",
   "execution_count": 17,
   "metadata": {},
   "outputs": [],
   "source": [
    "# Lo utilizamos para predecir en test\n",
    "y_pred = model.predict(X_test)"
   ]
  },
  {
   "cell_type": "code",
   "execution_count": 18,
   "metadata": {},
   "outputs": [
    {
     "data": {
      "text/plain": [
       "array([[ 795,  454],\n",
       "       [ 207, 1053]], dtype=int64)"
      ]
     },
     "execution_count": 18,
     "metadata": {},
     "output_type": "execute_result"
    }
   ],
   "source": [
    "# Elaboramos la matriz de confusión:\n",
    "confusion_matrix(y_test, y_pred)"
   ]
  },
  {
   "cell_type": "code",
   "execution_count": 19,
   "metadata": {},
   "outputs": [
    {
     "name": "stdout",
     "output_type": "stream",
     "text": [
      "1 : Transaccionó  |  0: No Transaccionó\n"
     ]
    },
    {
     "data": {
      "image/png": "[encoded data removed]",
      "text/plain": [
       "<Figure size 432x288 with 2 Axes>"
      ]
     },
     "metadata": {
      "needs_background": "light"
     },
     "output_type": "display_data"
    }
   ],
   "source": [
    "print('1 : Transaccionó  |  0: No Transaccionó')\n",
    "sns.heatmap(confusion_matrix(y_test, y_pred), annot=True, fmt='d')\n",
    "plt.ylabel('Verdaderos')\n",
    "plt.xlabel('Predichos');"
   ]
  },
  {
   "cell_type": "code",
   "execution_count": 20,
   "metadata": {},
   "outputs": [
    {
     "name": "stdout",
     "output_type": "stream",
     "text": [
      "                 precision    recall  f1-score   support\n",
      "\n",
      "No Transaccionó       0.79      0.64      0.71      1249\n",
      "   transaccionó       0.70      0.84      0.76      1260\n",
      "\n",
      "      micro avg       0.74      0.74      0.74      2509\n",
      "      macro avg       0.75      0.74      0.73      2509\n",
      "   weighted avg       0.75      0.74      0.73      2509\n",
      "\n"
     ]
    }
   ],
   "source": [
    "target_names = ['No Transaccionó','transaccionó']\n",
    "\n",
    "print(classification_report(y_test, y_pred, target_names = target_names))"
   ]
  },
  {
   "cell_type": "markdown",
   "metadata": {},
   "source": [
    "**Usando GridSearch**\n",
    "\n",
    "Con Knn uso la misma lista de valores que había generado para este caso. El GridSearch me sirve para tunear los hiperparámetros."
   ]
  },
  {
   "cell_type": "code",
   "execution_count": 21,
   "metadata": {},
   "outputs": [],
   "source": [
    "knn = KNeighborsClassifier()"
   ]
  },
  {
   "cell_type": "markdown",
   "metadata": {},
   "source": [
    "`GridSearchCV` exige que la grilla de hiperparámetros a explorar sea un diccionario (o lista de diccionarios) con los nombres de los hiperparámetros y la lista de los posibles valores."
   ]
  },
  {
   "cell_type": "markdown",
   "metadata": {},
   "source": [
    "Instanciamos el método `GridSearchCV`:"
   ]
  },
  {
   "cell_type": "code",
   "execution_count": 22,
   "metadata": {},
   "outputs": [
    {
     "name": "stdout",
     "output_type": "stream",
     "text": [
      "{'n_neighbors': [1, 6, 11, 16, 21, 26, 31, 36, 41, 46, 51, 56, 61, 66, 71, 76, 81, 86, 91, 96]}\n"
     ]
    }
   ],
   "source": [
    "from sklearn.model_selection import GridSearchCV\n",
    "param_grid = dict(n_neighbors=k_range)\n",
    "\n",
    "#muestro los parámetros\n",
    "print(param_grid)"
   ]
  },
  {
   "cell_type": "markdown",
   "metadata": {},
   "source": [
    "### 2.1 Agregando otros parámetros para tunear\n"
   ]
  },
  {
   "cell_type": "markdown",
   "metadata": {},
   "source": [
    "Vamos a agregar el parámetro binario de `weights` del algoritmo `KNeighborsClassifier`, que determina si algunos vecinos tendrán mayor ponderación que otros a la hora de clasificar. Mientras que el valor `uniform` asigna a todas las observaciones el mismo peso, el valor `distance` indica que el peso es inversamente proporcional a la distancia entre observaciones."
   ]
  },
  {
   "cell_type": "code",
   "execution_count": 23,
   "metadata": {},
   "outputs": [],
   "source": [
    "weight_options = ['uniform', 'distance']"
   ]
  },
  {
   "cell_type": "markdown",
   "metadata": {},
   "source": [
    "Entonces, ahora el tunning se realizará iterando y alternando `weights` y `k`."
   ]
  },
  {
   "cell_type": "code",
   "execution_count": 24,
   "metadata": {},
   "outputs": [
    {
     "name": "stdout",
     "output_type": "stream",
     "text": [
      "{'n_neighbors': [1, 6, 11, 16, 21, 26, 31, 36, 41, 46, 51, 56, 61, 66, 71, 76, 81, 86, 91, 96], 'weights': ['uniform', 'distance']}\n"
     ]
    }
   ],
   "source": [
    "param_grid = dict(n_neighbors=k_range, weights=weight_options)\n",
    "print(param_grid)"
   ]
  },
  {
   "cell_type": "markdown",
   "metadata": {},
   "source": [
    "Ajustamos los modelos:"
   ]
  },
  {
   "cell_type": "code",
   "execution_count": 25,
   "metadata": {},
   "outputs": [
    {
     "data": {
      "text/plain": [
       "GridSearchCV(cv=5, error_score='raise-deprecating',\n",
       "       estimator=KNeighborsClassifier(algorithm='auto', leaf_size=30, metric='minkowski',\n",
       "           metric_params=None, n_jobs=None, n_neighbors=5, p=2,\n",
       "           weights='uniform'),\n",
       "       fit_params=None, iid='warn', n_jobs=None,\n",
       "       param_grid={'n_neighbors': [1, 6, 11, 16, 21, 26, 31, 36, 41, 46, 51, 56, 61, 66, 71, 76, 81, 86, 91, 96], 'weights': ['uniform', 'distance']},\n",
       "       pre_dispatch='2*n_jobs', refit=True, return_train_score='warn',\n",
       "       scoring='accuracy', verbose=0)"
      ]
     },
     "execution_count": 25,
     "metadata": {},
     "output_type": "execute_result"
    }
   ],
   "source": [
    "grid = GridSearchCV(knn, param_grid, cv=5, scoring='accuracy')\n",
    "grid.fit(X_train, y_train)"
   ]
  },
  {
   "cell_type": "markdown",
   "metadata": {},
   "source": [
    "Escogemos el mejor modelo:"
   ]
  },
  {
   "cell_type": "code",
   "execution_count": 26,
   "metadata": {},
   "outputs": [
    {
     "data": {
      "text/plain": [
       "(KNeighborsClassifier(algorithm='auto', leaf_size=30, metric='minkowski',\n",
       "            metric_params=None, n_jobs=None, n_neighbors=26, p=2,\n",
       "            weights='uniform'),\n",
       " 0.7394712368805633,\n",
       " {'n_neighbors': 26, 'weights': 'uniform'})"
      ]
     },
     "execution_count": 26,
     "metadata": {},
     "output_type": "execute_result"
    }
   ],
   "source": [
    "grid.best_estimator_, grid.best_score_, grid.best_params_"
   ]
  },
  {
   "cell_type": "markdown",
   "metadata": {},
   "source": [
    "## 3. Usamos los mejores parámetros para correr las predicciones"
   ]
  },
  {
   "cell_type": "code",
   "execution_count": 27,
   "metadata": {},
   "outputs": [],
   "source": [
    "knn = KNeighborsClassifier(n_neighbors=82, weights='uniform')\n",
    "knn.fit(X_train, y_train)\n",
    "y_pred = knn.predict(X_test)"
   ]
  },
  {
   "cell_type": "code",
   "execution_count": 28,
   "metadata": {},
   "outputs": [
    {
     "data": {
      "image/png": "[encoded data removed]",
      "text/plain": [
       "<Figure size 432x288 with 2 Axes>"
      ]
     },
     "metadata": {
      "needs_background": "light"
     },
     "output_type": "display_data"
    }
   ],
   "source": [
    "sns.heatmap(confusion_matrix(y_test, y_pred), annot=True,  fmt='d')\n",
    "plt.ylabel('Etiquetas verdaderas')\n",
    "plt.xlabel('Etiquetas predichas');"
   ]
  },
  {
   "cell_type": "code",
   "execution_count": 29,
   "metadata": {},
   "outputs": [
    {
     "name": "stdout",
     "output_type": "stream",
     "text": [
      "                 precision    recall  f1-score   support\n",
      "\n",
      "No Transaccionó       0.78      0.64      0.70      1249\n",
      "   transaccionó       0.70      0.82      0.75      1260\n",
      "\n",
      "      micro avg       0.73      0.73      0.73      2509\n",
      "      macro avg       0.74      0.73      0.73      2509\n",
      "   weighted avg       0.74      0.73      0.73      2509\n",
      "\n"
     ]
    }
   ],
   "source": [
    "print(classification_report(y_test, y_pred, target_names = target_names))"
   ]
  },
  {
   "cell_type": "markdown",
   "metadata": {},
   "source": [
    "## Regresión Logística\n",
    "Importamos las librerias correspondientes"
   ]
  },
  {
   "cell_type": "code",
   "execution_count": 30,
   "metadata": {},
   "outputs": [],
   "source": [
    "from sklearn import linear_model\n",
    "from sklearn.metrics import accuracy_score\n",
    "from sklearn import model_selection\n",
    "import warnings\n",
    "warnings.filterwarnings('ignore')\n"
   ]
  },
  {
   "cell_type": "markdown",
   "metadata": {},
   "source": [
    "Como nombramos al inicio queremos predecir si el usuario realizó una transacción monetaria o no.\n",
    "En función de las características seteadas."
   ]
  },
  {
   "cell_type": "code",
   "execution_count": 31,
   "metadata": {},
   "outputs": [],
   "source": [
    "#Set de características\n",
    "#X = df[UNO]"
   ]
  },
  {
   "cell_type": "code",
   "execution_count": 32,
   "metadata": {},
   "outputs": [],
   "source": [
    "#Columna a predecir\n",
    "#y =  df['CONTRATOTRANSACCIONMONETARIA']"
   ]
  },
  {
   "cell_type": "markdown",
   "metadata": {},
   "source": [
    "***Creo el modelo***\n",
    "\n",
    "Vamos a evaluar un modelo usando validación cruzada. La idea es estimar el test error usando validación cruzada en lugar de la partición clásica entre test y train.\n",
    "\n",
    "1. Utilizo kflod y cross validation\n",
    "2. Utilizo un set de validación del 20%"
   ]
  },
  {
   "cell_type": "code",
   "execution_count": 33,
   "metadata": {},
   "outputs": [],
   "source": [
    "#Creo el modelo\n",
    "model = linear_model.LogisticRegression()"
   ]
  },
  {
   "cell_type": "code",
   "execution_count": 34,
   "metadata": {},
   "outputs": [],
   "source": [
    "#Genero el set de entrenamiento, test y validacion\n",
    "\n",
    "#validation_size = 0.20\n",
    "#seed = 7\n",
    "#X_train, X_validation, y_train, y_test = model_selection.train_test_split(X, y, test_size=validation_size, random_state=seed)\n",
    "X_train, X_test, y_train, y_test = model_selection.train_test_split(X, y)"
   ]
  },
  {
   "cell_type": "code",
   "execution_count": 35,
   "metadata": {},
   "outputs": [
    {
     "name": "stdout",
     "output_type": "stream",
     "text": [
      "Logistic Regression: 0.746513 (0.007970)\n"
     ]
    }
   ],
   "source": [
    "#Armo con kflod la croos validation\n",
    "\n",
    "name='Logistic Regression'\n",
    "#kfold = model_selection.KFold(n_splits=10, random_state=seed)\n",
    "kfold = model_selection.KFold(n_splits=10)\n",
    "cv_results = model_selection.cross_val_score(model, X_train, y_train, cv=kfold, scoring='accuracy')\n",
    "msg = \"%s: %f (%f)\" % (name, cv_results.mean(), cv_results.std())\n",
    "print(msg)"
   ]
  },
  {
   "cell_type": "markdown",
   "metadata": {},
   "source": [
    "Muestro el mejor modelo"
   ]
  },
  {
   "cell_type": "code",
   "execution_count": 36,
   "metadata": {},
   "outputs": [
    {
     "data": {
      "text/plain": [
       "LogisticRegression(C=1.0, class_weight=None, dual=False, fit_intercept=True,\n",
       "          intercept_scaling=1, max_iter=100, multi_class='warn',\n",
       "          n_jobs=None, penalty='l2', random_state=None, solver='warn',\n",
       "          tol=0.0001, verbose=0, warm_start=False)"
      ]
     },
     "execution_count": 36,
     "metadata": {},
     "output_type": "execute_result"
    }
   ],
   "source": [
    "model.fit(X_train,y_train)"
   ]
  },
  {
   "cell_type": "code",
   "execution_count": 37,
   "metadata": {},
   "outputs": [
    {
     "name": "stdout",
     "output_type": "stream",
     "text": [
      "0.7437225986448784\n"
     ]
    }
   ],
   "source": [
    "predictions = model.predict(X_test)\n",
    "print(accuracy_score(y_test, predictions))"
   ]
  },
  {
   "cell_type": "markdown",
   "metadata": {},
   "source": [
    "## Reporte de Resultados\n",
    "\n",
    "Armo la matriz de confusión y su gráfico correspondiente"
   ]
  },
  {
   "cell_type": "code",
   "execution_count": 38,
   "metadata": {},
   "outputs": [
    {
     "name": "stdout",
     "output_type": "stream",
     "text": [
      "[[867 386]\n",
      " [257 999]]\n"
     ]
    }
   ],
   "source": [
    "print(confusion_matrix(y_test, predictions))"
   ]
  },
  {
   "cell_type": "code",
   "execution_count": 39,
   "metadata": {},
   "outputs": [
    {
     "data": {
      "text/plain": [
       "<matplotlib.axes._subplots.AxesSubplot at 0x1c1b704b6d8>"
      ]
     },
     "execution_count": 39,
     "metadata": {},
     "output_type": "execute_result"
    },
    {
     "data": {
      "image/png": "[encoded data removed]",
      "text/plain": [
       "<Figure size 432x288 with 2 Axes>"
      ]
     },
     "metadata": {
      "needs_background": "light"
     },
     "output_type": "display_data"
    }
   ],
   "source": [
    "sns.heatmap(confusion_matrix(y_test, predictions), annot=True,fmt='d')"
   ]
  },
  {
   "cell_type": "code",
   "execution_count": 40,
   "metadata": {},
   "outputs": [
    {
     "name": "stdout",
     "output_type": "stream",
     "text": [
      "                 precision    recall  f1-score   support\n",
      "\n",
      "No Transaccionó       0.77      0.69      0.73      1253\n",
      "   transaccionó       0.72      0.80      0.76      1256\n",
      "\n",
      "      micro avg       0.74      0.74      0.74      2509\n",
      "      macro avg       0.75      0.74      0.74      2509\n",
      "   weighted avg       0.75      0.74      0.74      2509\n",
      "\n"
     ]
    }
   ],
   "source": [
    "print(classification_report(y_test, predictions, target_names = target_names))"
   ]
  },
  {
   "cell_type": "markdown",
   "metadata": {},
   "source": [
    "**Ahora pruebo con GridSearch**"
   ]
  },
  {
   "cell_type": "code",
   "execution_count": 41,
   "metadata": {},
   "outputs": [],
   "source": [
    "#Genero el dict con los parámetros\n",
    "logit_range = np.linspace(0.0001,1,100)\n",
    "\n",
    "penalty_options = ['l1','l2']\n",
    "\n",
    "logit_parametros = dict(C =  logit_range, penalty = penalty_options)\n"
   ]
  },
  {
   "cell_type": "code",
   "execution_count": 42,
   "metadata": {},
   "outputs": [
    {
     "data": {
      "text/plain": [
       "GridSearchCV(cv=5, error_score='raise-deprecating',\n",
       "       estimator=LogisticRegression(C=1.0, class_weight=None, dual=False, fit_intercept=True,\n",
       "          intercept_scaling=1, max_iter=100, multi_class='warn',\n",
       "          n_jobs=None, penalty='l2', random_state=None, solver='warn',\n",
       "          tol=0.0001, verbose=0, warm_start=False),\n",
       "       fit_params=None, iid='warn', n_jobs=None,\n",
       "       param_grid={'C': array([1.000e-04, 1.020e-02, ..., 9.899e-01, 1.000e+00]), 'penalty': ['l1', 'l2']},\n",
       "       pre_dispatch='2*n_jobs', refit=True, return_train_score='warn',\n",
       "       scoring='accuracy', verbose=0)"
      ]
     },
     "execution_count": 42,
     "metadata": {},
     "output_type": "execute_result"
    }
   ],
   "source": [
    "logit = linear_model.LogisticRegression()\n",
    "\n",
    "grid = GridSearchCV(logit,logit_parametros,cv=5,scoring='accuracy')\n",
    "\n",
    "grid.fit(X_train,y_train)\n"
   ]
  },
  {
   "cell_type": "code",
   "execution_count": 43,
   "metadata": {},
   "outputs": [
    {
     "data": {
      "text/plain": [
       "(LogisticRegression(C=0.091, class_weight=None, dual=False, fit_intercept=True,\n",
       "           intercept_scaling=1, max_iter=100, multi_class='warn',\n",
       "           n_jobs=None, penalty='l1', random_state=None, solver='warn',\n",
       "           tol=0.0001, verbose=0, warm_start=False),\n",
       " 0.7483725255745981,\n",
       " {'C': 0.091, 'penalty': 'l1'})"
      ]
     },
     "execution_count": 43,
     "metadata": {},
     "output_type": "execute_result"
    }
   ],
   "source": [
    "#mejor modelo\n",
    "grid.best_estimator_, grid.best_score_, grid.best_params_"
   ]
  },
  {
   "cell_type": "code",
   "execution_count": 44,
   "metadata": {},
   "outputs": [
    {
     "name": "stdout",
     "output_type": "stream",
     "text": [
      "0.7421283379832603\n"
     ]
    }
   ],
   "source": [
    "logit_best = linear_model.LogisticRegression(C=0.1112, penalty=\"l2\")\n",
    "\n",
    "logit_best.fit(X_train, y_train)\n",
    "\n",
    "predictions = logit_best.predict(X_test)\n",
    "\n",
    "print(accuracy_score(y_test, predictions))\n",
    "\n"
   ]
  },
  {
   "cell_type": "markdown",
   "metadata": {},
   "source": [
    "## Reporte de Resultados\n",
    "\n",
    "Armo la matriz de confusión y su gráfico correspondiente"
   ]
  },
  {
   "cell_type": "code",
   "execution_count": 45,
   "metadata": {},
   "outputs": [
    {
     "name": "stdout",
     "output_type": "stream",
     "text": [
      "[[ 816  437]\n",
      " [ 210 1046]]\n"
     ]
    }
   ],
   "source": [
    "print(confusion_matrix(y_test, predictions))"
   ]
  },
  {
   "cell_type": "code",
   "execution_count": 46,
   "metadata": {},
   "outputs": [
    {
     "data": {
      "text/plain": [
       "<matplotlib.axes._subplots.AxesSubplot at 0x1c1b6d1ccf8>"
      ]
     },
     "execution_count": 46,
     "metadata": {},
     "output_type": "execute_result"
    },
    {
     "data": {
      "image/png": "[encoded data removed]",
      "text/plain": [
       "<Figure size 432x288 with 2 Axes>"
      ]
     },
     "metadata": {
      "needs_background": "light"
     },
     "output_type": "display_data"
    }
   ],
   "source": [
    "sns.heatmap(confusion_matrix(y_test, predictions), annot=True,fmt='d')"
   ]
  },
  {
   "cell_type": "code",
   "execution_count": 47,
   "metadata": {},
   "outputs": [
    {
     "name": "stdout",
     "output_type": "stream",
     "text": [
      "                 precision    recall  f1-score   support\n",
      "\n",
      "No Transaccionó       0.80      0.65      0.72      1253\n",
      "   transaccionó       0.71      0.83      0.76      1256\n",
      "\n",
      "      micro avg       0.74      0.74      0.74      2509\n",
      "      macro avg       0.75      0.74      0.74      2509\n",
      "   weighted avg       0.75      0.74      0.74      2509\n",
      "\n"
     ]
    }
   ],
   "source": [
    "print(classification_report(y_test, predictions, target_names = target_names))"
   ]
  },
  {
   "cell_type": "markdown",
   "metadata": {},
   "source": [
    "## Arboles\n",
    "\n",
    "Pruebo el modelo con arboles y comparo"
   ]
  },
  {
   "cell_type": "code",
   "execution_count": 48,
   "metadata": {},
   "outputs": [],
   "source": [
    "#cargo las librerias\n",
    "from IPython.display import Image\n",
    "from sklearn.tree import export_graphviz\n",
    "import pydotplus\n",
    "from sklearn.preprocessing import LabelEncoder\n",
    "from sklearn.tree import DecisionTreeClassifier"
   ]
  },
  {
   "cell_type": "code",
   "execution_count": 49,
   "metadata": {},
   "outputs": [
    {
     "data": {
      "text/plain": [
       "DecisionTreeClassifier(class_weight=None, criterion='gini', max_depth=3,\n",
       "            max_features=None, max_leaf_nodes=None,\n",
       "            min_impurity_decrease=0.0, min_impurity_split=None,\n",
       "            min_samples_leaf=1, min_samples_split=2,\n",
       "            min_weight_fraction_leaf=0.0, presort=False, random_state=11,\n",
       "            splitter='best')"
      ]
     },
     "execution_count": 49,
     "metadata": {},
     "output_type": "execute_result"
    }
   ],
   "source": [
    "#instancio el arbol\n",
    "dt = DecisionTreeClassifier(max_depth = 3, min_samples_split = 2, random_state = 11)\n",
    "dt.fit(X_train, y_train)"
   ]
  },
  {
   "cell_type": "code",
   "execution_count": 50,
   "metadata": {},
   "outputs": [
    {
     "data": {
      "image/png": "[encoded data removed]",
      "text/plain": [
       "<IPython.core.display.Image object>"
      ]
     },
     "execution_count": 50,
     "metadata": {},
     "output_type": "execute_result"
    }
   ],
   "source": [
    "##Grafico para ver lo que me da\n",
    "\n",
    "dot_data = export_graphviz(dt, out_file=None,  \n",
    "                feature_names=X.columns,  \n",
    "                class_names = ['No', 'Si Trans'],\n",
    "                filled=True, rounded=True,\n",
    "                proportion=False,\n",
    "                max_depth = 5,\n",
    "                special_characters=True)  \n",
    "\n",
    "graph = pydotplus.graph_from_dot_data(dot_data)\n",
    "Image(graph.create_png())\n"
   ]
  },
  {
   "cell_type": "code",
   "execution_count": 51,
   "metadata": {},
   "outputs": [],
   "source": [
    "# veo lo que me da el arbol\n",
    "y_pred = dt.predict(X_test)\n"
   ]
  },
  {
   "cell_type": "code",
   "execution_count": 53,
   "metadata": {},
   "outputs": [
    {
     "data": {
      "text/plain": [
       "<matplotlib.axes._subplots.AxesSubplot at 0x1c1b945a080>"
      ]
     },
     "execution_count": 53,
     "metadata": {},
     "output_type": "execute_result"
    },
    {
     "data": {
      "image/png": "[encoded data removed]",
      "text/plain": [
       "<Figure size 432x288 with 2 Axes>"
      ]
     },
     "metadata": {
      "needs_background": "light"
     },
     "output_type": "display_data"
    }
   ],
   "source": [
    "sns.heatmap(confusion_matrix(y_test, y_pred), annot=True,fmt='d')"
   ]
  },
  {
   "cell_type": "code",
   "execution_count": 52,
   "metadata": {},
   "outputs": [
    {
     "name": "stdout",
     "output_type": "stream",
     "text": [
      "              precision    recall  f1-score   support\n",
      "\n",
      "           0       0.82      0.61      0.70      1253\n",
      "           1       0.69      0.87      0.77      1256\n",
      "\n",
      "   micro avg       0.74      0.74      0.74      2509\n",
      "   macro avg       0.75      0.74      0.73      2509\n",
      "weighted avg       0.75      0.74      0.73      2509\n",
      "\n"
     ]
    }
   ],
   "source": [
    "# Reporte de resultados\n",
    "print(classification_report(y_test, y_pred))\n"
   ]
  },
  {
   "cell_type": "markdown",
   "metadata": {},
   "source": [
    "### Conclusión"
   ]
  },
  {
   "cell_type": "markdown",
   "metadata": {},
   "source": [
    "De todos los modelos analizados que el mejor es el arbol clasificador. Para la busqueda que realizamos que es mejorar la sensibilidad/recall del modelo."
   ]
  },
  {
   "cell_type": "code",
   "execution_count": null,
   "metadata": {},
   "outputs": [],
   "source": []
  }
 ],
 "metadata": {
  "kernelspec": {
   "display_name": "Python 3",
   "language": "python",
   "name": "python3"
  },
  "language_info": {
   "codemirror_mode": {
    "name": "ipython",
    "version": 3
   },
   "file_extension": ".py",
   "mimetype": "text/x-python",
   "name": "python",
   "nbconvert_exporter": "python",
   "pygments_lexer": "ipython3",
   "version": "3.7.1"
  }
 },
 "nbformat": 4,
 "nbformat_minor": 2
}
